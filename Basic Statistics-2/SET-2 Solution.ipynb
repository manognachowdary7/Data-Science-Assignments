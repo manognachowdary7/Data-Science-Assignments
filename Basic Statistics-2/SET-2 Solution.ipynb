{
 "cells": [
  {
   "cell_type": "code",
   "execution_count": 3,
   "id": "8de86d3d",
   "metadata": {},
   "outputs": [],
   "source": [
    "import pandas as pd\n",
    "import numpy as np\n",
    "import matplotlib.pyplot as plt\n",
    "import scipy.stats as stats\n",
    "import seaborn as sns\n",
    "import statsmodels.api as smf\n",
    "import warnings\n",
    "warnings.filterwarnings('ignore')"
   ]
  },
  {
   "cell_type": "code",
   "execution_count": 5,
   "id": "3ace0556",
   "metadata": {},
   "outputs": [
    {
     "name": "stdout",
     "output_type": "stream",
     "text": [
      "The probability that service manager cannot meet his commitment is  0.26599\n"
     ]
    }
   ],
   "source": [
    "#Question 1\n",
    "\n",
    "'''The service manager plans to have work begin on the transmission of customer car after 10 \n",
    "min of drop off so 45+10 which will take more than ususal time so new μ = 55 mins\n",
    "and probability that will take more than 1 hour to complete'''\n",
    "μ = 55\n",
    "std = 8\n",
    "p = stats.norm.sf(60, loc=μ, scale=std)\n",
    "print(\"The probability that service manager cannot meet his commitment is \", np.round(p, 5))"
   ]
  },
  {
   "cell_type": "code",
   "execution_count": 6,
   "id": "ebbdf8a3",
   "metadata": {},
   "outputs": [
    {
     "name": "stdout",
     "output_type": "stream",
     "text": [
      "The propability of employee age between 38 and 44 is  34.13 %\n",
      "The probability of employee age more than 44 is  15.87 %\n",
      "Answer:  False\n",
      "A training program for employees under age of 30 at the center would be expected to attract about  36.0 employees\n"
     ]
    }
   ],
   "source": [
    "#Question 2\n",
    "\n",
    "#question 2a\n",
    "mean = 38\n",
    "std = 6\n",
    "\n",
    "q_lessthan_38 = stats.norm.cdf(38, loc=mean, scale=std)\n",
    "\n",
    "q_lessthan_44 = stats.norm.cdf(44, loc=mean, scale=std)\n",
    "\n",
    "q_between_38_and_44 = (q_lessthan_44 - q_lessthan_38)\n",
    "print(\"The propability of employee age between 38 and 44 is \", np.round(q_between_38_and_44*100, 2),'%')\n",
    "\n",
    "q_morethan_44 = 1-stats.norm.cdf(44, loc=mean, scale=std)\n",
    "print(\"The probability of employee age more than 44 is \", np.round(q_morethan_44*100,2),'%')\n",
    "\n",
    "true_false = (q_morethan_44 > q_between_38_and_44)\n",
    "print(\"Answer: \",true_false)\n",
    "\n",
    "#question 2b\n",
    "q = stats.norm.cdf(30, loc=mean, scale=std)\n",
    "print(\"A training program for employees under age of 30 at the center would be expected to attract about \", np.round((q*400),0),'employees')\n"
   ]
  },
  {
   "cell_type": "code",
   "execution_count": 9,
   "id": "1738820a",
   "metadata": {},
   "outputs": [
    {
     "name": "stdout",
     "output_type": "stream",
     "text": [
      "the z value for 0.005 percentiles  -2.5758\n",
      "the z value for 0.995 percentiles  2.5758\n",
      "The two values of a and b, symmetric about the mean, such that the probability of the random variable taking a value between them is 0.99:  48.5 151.5\n"
     ]
    }
   ],
   "source": [
    "#Question 4\n",
    "\n",
    "μ = 100\n",
    "std = 20\n",
    "\n",
    "'''two values, a and b, symmetric about the mean, such that the probability \n",
    "of the random variable taking a value between them is 0.99. '''\n",
    "\n",
    "'''solution: from the above details, we have to exclude 0.05% area from each left\n",
    "and right tails. Hence, we want to find the .005th and the .995th percentiles \n",
    "z scores values.'''\n",
    "\n",
    "#z value for .005 percentiles\n",
    "\n",
    "z_005 = np.round(stats.norm.ppf(0.005), 4)\n",
    "print(\"the z value for 0.005 percentiles \",z_005)\n",
    "\n",
    "#z value for .995 percentiles\n",
    "\n",
    "z_995 = np.round(stats.norm.ppf(0.995),4)\n",
    "print(\"the z value for 0.995 percentiles \",z_995)\n",
    "\n",
    "a = np.round((z_005*std) + μ,1)\n",
    "b = np.round((z_995*std) + μ,1)\n",
    "\n",
    "print(\"The two values of a and b, symmetric about the mean, such that the probability of the random variable taking a value between them is 0.99: \",a,b)"
   ]
  },
  {
   "cell_type": "code",
   "execution_count": 10,
   "id": "7d5b0b77",
   "metadata": {},
   "outputs": [
    {
     "name": "stdout",
     "output_type": "stream",
     "text": [
      "The Mean profit of both divisions: 12 Million$\n",
      "The Mean profit of both divisions: 54.0 Crore Rupees\n",
      "The Standard Deviation of both divisions: 5.0 Million$\n",
      "The Standard Deviation of both divisions 22.5 Crore Rupees\n"
     ]
    }
   ],
   "source": [
    "#Question 5\n",
    "\n",
    "#Consider a company that has two different divisions. \n",
    "#The annual profits from the two divisions are independent and have distributions\n",
    "#combine Mean profit of both divisions for Company = mean1+mean2\n",
    "\n",
    "mean1 = 5\n",
    "mean2 = 7\n",
    "Mean = (mean1+mean2) #assume 1 USD = 45 rupees\n",
    "\n",
    "print('The Mean profit of both divisions:', Mean,'Million$')\n",
    "print('The Mean profit of both divisions:',(Mean*45)/10,'Crore Rupees')\n",
    "\n",
    "#Combine standard deviation = (std1^2 + std2^2)^1/2\n",
    "\n",
    "std1 = 3**2\n",
    "std2 = 4**2\n",
    "\n",
    "Std = np.sqrt(std1+std2)\n",
    "\n",
    "print('The Standard Deviation of both divisions:', Std,'Million$')\n",
    "print('The Standard Deviation of both divisions',(Std*45)/10,'Crore Rupees')"
   ]
  },
  {
   "cell_type": "code",
   "execution_count": 13,
   "id": "bd3ee0b5",
   "metadata": {},
   "outputs": [
    {
     "name": "stdout",
     "output_type": "stream",
     "text": [
      "Rupees Ranges from 2.2 to 21.8 Million$ in annual profit of the company 95% of the time\n",
      "Rupees Ranges from 9.900000000000002 to 98.1 Company 95% of the time\n"
     ]
    }
   ],
   "source": [
    "#question 5a\n",
    "#Specify a Rupee range (centered on the mean) such that it contains 95% probability for the annual profit of the company.\n",
    "\n",
    "R1, R2 = np.round(stats.norm.interval(0.95, Mean, Std),2)\n",
    "print('Rupees Ranges from', R1, 'to', R2, 'Million$ in annual profit of the company 95% of the time')\n",
    "print('Rupees Ranges from', np.divide(np.multiply(R1,45),10), 'to', np.divide(np.multiply(R2,45),10),'Company 95% of the time')"
   ]
  },
  {
   "cell_type": "code",
   "execution_count": 14,
   "id": "5f94cdfa",
   "metadata": {},
   "outputs": [
    {
     "name": "stdout",
     "output_type": "stream",
     "text": [
      "The 5th percentile of Profit for the company is 3.78 Million$\n",
      "The 5th percentile of Profit for the company is 17.0 Crore Rupees\n"
     ]
    }
   ],
   "source": [
    "#question 5b\n",
    "#Specify the 5th percentile of profit (in Rupees) for the company\n",
    "\n",
    "z_05 = stats.norm.ppf(0.05)\n",
    "Fifth_percentile = (z_05*Std)+Mean\n",
    "print('The 5th percentile of Profit for the company is',np.round(Fifth_percentile,2),'Million$')\n",
    "print('The 5th percentile of Profit for the company is',np.round((Fifth_percentile*45)/10,),'Crore Rupees')"
   ]
  },
  {
   "cell_type": "code",
   "execution_count": 18,
   "id": "f0a2bb3c",
   "metadata": {},
   "outputs": [
    {
     "name": "stdout",
     "output_type": "stream",
     "text": [
      "The probability of division #1 making a loss is 4.78 %\n",
      "The Probability of division #2 making a loss is 4.01 %\n",
      "The Division 1 has a larger Probability of making a loss\n"
     ]
    }
   ],
   "source": [
    "#question 5c\n",
    "#Which of the two divisions has a larger probability of making a loss in a given year?\n",
    "\n",
    "#The probability of division #1 making a loss\n",
    "print(\"The probability of division #1 making a loss is\",np.round((stats.norm.cdf(0,5,3))*100,2),'%')\n",
    "\n",
    "#The probability of division #2 making a loss\n",
    "print('The Probability of division #2 making a loss is',np.round((stats.norm.cdf(0,7,4))*100,2),'%')\n",
    "\n",
    "division_1 = (stats.norm.cdf(0,5,3))*100\n",
    "division_2 = (stats.norm.cdf(0,7,4))*100\n",
    "\n",
    "if division_1>division_2:\n",
    "    print('The Division 1 has a larger Probability of making a loss')\n",
    "else:\n",
    "    print('The Division 2 has a larger Probability of making a loss')"
   ]
  },
  {
   "cell_type": "code",
   "execution_count": null,
   "id": "f8b9feeb",
   "metadata": {},
   "outputs": [],
   "source": []
  }
 ],
 "metadata": {
  "kernelspec": {
   "display_name": "Python 3 (ipykernel)",
   "language": "python",
   "name": "python3"
  },
  "language_info": {
   "codemirror_mode": {
    "name": "ipython",
    "version": 3
   },
   "file_extension": ".py",
   "mimetype": "text/x-python",
   "name": "python",
   "nbconvert_exporter": "python",
   "pygments_lexer": "ipython3",
   "version": "3.9.12"
  }
 },
 "nbformat": 4,
 "nbformat_minor": 5
}

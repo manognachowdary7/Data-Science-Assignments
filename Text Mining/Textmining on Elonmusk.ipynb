{
 "cells": [
  {
   "cell_type": "code",
   "execution_count": 2,
   "id": "e7aa352e",
   "metadata": {},
   "outputs": [],
   "source": [
    "import pandas as pd\n",
    "import re\n",
    "import string\n",
    "import nltk\n",
    "from nltk.corpus import stopwords\n",
    "from nltk.tokenize import word_tokenize\n",
    "from collections import Counter\n",
    "from wordcloud import WordCloud\n",
    "import matplotlib.pyplot as plt\n",
    "from sklearn.feature_extraction.text import CountVectorizer, TfidfVectorizer\n",
    "from nltk.sentiment.vader import SentimentIntensityAnalyzer\n",
    "\n",
    "import warnings\n",
    "warnings.filterwarnings('ignore')"
   ]
  },
  {
   "cell_type": "code",
   "execution_count": 3,
   "id": "6c9569fa",
   "metadata": {},
   "outputs": [
    {
     "data": {
      "text/html": [
       "<div>\n",
       "<style scoped>\n",
       "    .dataframe tbody tr th:only-of-type {\n",
       "        vertical-align: middle;\n",
       "    }\n",
       "\n",
       "    .dataframe tbody tr th {\n",
       "        vertical-align: top;\n",
       "    }\n",
       "\n",
       "    .dataframe thead th {\n",
       "        text-align: right;\n",
       "    }\n",
       "</style>\n",
       "<table border=\"1\" class=\"dataframe\">\n",
       "  <thead>\n",
       "    <tr style=\"text-align: right;\">\n",
       "      <th></th>\n",
       "      <th>Unnamed: 0</th>\n",
       "      <th>Text</th>\n",
       "    </tr>\n",
       "  </thead>\n",
       "  <tbody>\n",
       "    <tr>\n",
       "      <th>0</th>\n",
       "      <td>1</td>\n",
       "      <td>@kunalb11 Im an alien</td>\n",
       "    </tr>\n",
       "    <tr>\n",
       "      <th>1</th>\n",
       "      <td>2</td>\n",
       "      <td>@ID_AA_Carmack Ray tracing on Cyberpunk with H...</td>\n",
       "    </tr>\n",
       "    <tr>\n",
       "      <th>2</th>\n",
       "      <td>3</td>\n",
       "      <td>@joerogan @Spotify Great interview!</td>\n",
       "    </tr>\n",
       "    <tr>\n",
       "      <th>3</th>\n",
       "      <td>4</td>\n",
       "      <td>@gtera27 Doge is underestimated</td>\n",
       "    </tr>\n",
       "    <tr>\n",
       "      <th>4</th>\n",
       "      <td>5</td>\n",
       "      <td>@teslacn Congratulations Tesla China for amazi...</td>\n",
       "    </tr>\n",
       "  </tbody>\n",
       "</table>\n",
       "</div>"
      ],
      "text/plain": [
       "   Unnamed: 0                                               Text\n",
       "0           1                             @kunalb11 Im an alien\n",
       "1           2  @ID_AA_Carmack Ray tracing on Cyberpunk with H...\n",
       "2           3                @joerogan @Spotify Great interview!\n",
       "3           4                    @gtera27 Doge is underestimated\n",
       "4           5  @teslacn Congratulations Tesla China for amazi..."
      ]
     },
     "execution_count": 3,
     "metadata": {},
     "output_type": "execute_result"
    }
   ],
   "source": [
    "df = pd.read_csv('Elon_musk.csv', encoding=\"Latin\")\n",
    "df.head()"
   ]
  },
  {
   "cell_type": "code",
   "execution_count": 4,
   "id": "2007b2ba",
   "metadata": {},
   "outputs": [],
   "source": [
    "df['tweets'] = df['Text']"
   ]
  },
  {
   "cell_type": "code",
   "execution_count": 5,
   "id": "5e50f6a6",
   "metadata": {},
   "outputs": [],
   "source": [
    "stop_words = set(stopwords.words('english'))\n",
    "df['tweets'] = df['tweets'].apply(lambda x: re.sub(r'\\b(?:' + '|'.join(stop_words) + r')\\b\\s*', '', x))\n",
    "df['tweets'] = df['tweets'].str.replace('|', ' ')"
   ]
  },
  {
   "cell_type": "code",
   "execution_count": 6,
   "id": "594c0ed8",
   "metadata": {},
   "outputs": [],
   "source": [
    "df['tweets'] = df['tweets'].apply(lambda x: ' '.join([word for word in x.split() if word.lower() not in stop_words]))"
   ]
  },
  {
   "cell_type": "code",
   "execution_count": 7,
   "id": "292a9014",
   "metadata": {},
   "outputs": [],
   "source": [
    "word_counts = Counter(\" \".join(df['tweets']).split())\n",
    "word_df = pd.DataFrame(list(word_counts.items()), columns=['Word', 'Count'])"
   ]
  },
  {
   "cell_type": "code",
   "execution_count": 8,
   "id": "32a25afd",
   "metadata": {},
   "outputs": [],
   "source": [
    "# VADER Sentiment Analyzer\n",
    "sia = SentimentIntensityAnalyzer()\n",
    "df['polarity'] = df['tweets'].apply(lambda x: sia.polarity_scores(x)['compound'])"
   ]
  },
  {
   "cell_type": "code",
   "execution_count": 9,
   "id": "3fe55e3f",
   "metadata": {},
   "outputs": [
    {
     "data": {
      "image/png": "[encoded data removed]",
      "text/plain": [
       "<Figure size 432x288 with 1 Axes>"
      ]
     },
     "metadata": {
      "needs_background": "light"
     },
     "output_type": "display_data"
    }
   ],
   "source": [
    "# Visualize the length of all tweets\n",
    "df['tweet_length'] = df['tweets'].apply(len)\n",
    "plt.hist(df['tweet_length'], bins=30, color='green')\n",
    "plt.title('Distribution of Tweet Lengths')\n",
    "plt.xlabel('Tweet Length')\n",
    "plt.ylabel('Frequency')\n",
    "plt.show()"
   ]
  },
  {
   "cell_type": "code",
   "execution_count": 10,
   "id": "b3cd6058",
   "metadata": {},
   "outputs": [],
   "source": [
    "# Cleaning the input tweets\n",
    "df['tweets'] = df['tweets'].str.lower()\n",
    "df['tweets'] = df['tweets'].str.replace('[{}]'.format(string.punctuation), '')\n",
    "df['tweets'] = df['tweets'].str.replace('\\d+', '')"
   ]
  },
  {
   "cell_type": "code",
   "execution_count": 11,
   "id": "5f5f4239",
   "metadata": {},
   "outputs": [],
   "source": [
    "# Remove stopwords\n",
    "df['tweets'] = df['tweets'].apply(lambda x: ' '.join([word for word in x.split() if word not in stop_words]))"
   ]
  },
  {
   "cell_type": "code",
   "execution_count": 12,
   "id": "71e00f5d",
   "metadata": {},
   "outputs": [],
   "source": [
    "# User-defined function to clean tweets\n",
    "def clean_tweet(tweet):\n",
    "    tweet = re.sub(r'[^\\w\\s]', '', tweet)  # Remove special characters\n",
    "    tweet = re.sub(r'\\s+', ' ', tweet).strip()  # Remove extra whitespaces\n",
    "    return tweet\n",
    "\n",
    "df['tweets'] = df['tweets'].apply(clean_tweet)"
   ]
  },
  {
   "cell_type": "code",
   "execution_count": 13,
   "id": "69021637",
   "metadata": {},
   "outputs": [],
   "source": [
    "# User-defined function to remove emojis\n",
    "def remove_emojis(tweet):\n",
    "    emoji_pattern = re.compile(\"[\"\n",
    "                               u\"\\U0001F600-\\U0001F64F\"  # emoticons\n",
    "                               u\"\\U0001F300-\\U0001F5FF\"  # symbols & pictographs\n",
    "                               u\"\\U0001F680-\\U0001F6FF\"  # transport & map symbols\n",
    "                               u\"\\U0001F700-\\U0001F77F\"  # alchemical symbols\n",
    "                               u\"\\U0001F780-\\U0001F7FF\"  # Geometric Shapes Extended\n",
    "                               u\"\\U0001F800-\\U0001F8FF\"  # Supplemental Arrows-C\n",
    "                               u\"\\U0001F900-\\U0001F9FF\"  # Supplemental Symbols and Pictographs\n",
    "                               u\"\\U0001FA00-\\U0001FA6F\"  # Chess Symbols\n",
    "                               u\"\\U0001FA70-\\U0001FAFF\"  # Symbols and Pictographs Extended-A\n",
    "                               u\"\\U00002702-\\U000027B0\"  # Dingbats\n",
    "                               u\"\\U000024C2-\\U0001F251\" \n",
    "                               \"]+\", flags=re.UNICODE)\n",
    "    return emoji_pattern.sub(r'', tweet)\n",
    "\n",
    "df['tweets'] = df['tweets'].apply(remove_emojis)"
   ]
  },
  {
   "cell_type": "code",
   "execution_count": 14,
   "id": "13aafa70",
   "metadata": {},
   "outputs": [],
   "source": [
    "# Importing CountVectorizer to create a bag of words model\n",
    "vectorizer = CountVectorizer()\n",
    "X = vectorizer.fit_transform(df['tweets'])\n",
    "bag_of_words_df = pd.DataFrame(X.toarray(), columns=vectorizer.get_feature_names_out())"
   ]
  },
  {
   "cell_type": "code",
   "execution_count": 15,
   "id": "83b9abc3",
   "metadata": {},
   "outputs": [],
   "source": [
    "# Creating TF-IDF vectorizer model\n",
    "tfidf_vectorizer = TfidfVectorizer()\n",
    "X_tfidf = tfidf_vectorizer.fit_transform(df['tweets'])\n",
    "tfidf_df = pd.DataFrame(X_tfidf.toarray(), columns=tfidf_vectorizer.get_feature_names_out())"
   ]
  },
  {
   "cell_type": "code",
   "execution_count": 16,
   "id": "a393d7f0",
   "metadata": {},
   "outputs": [
    {
     "name": "stdout",
     "output_type": "stream",
     "text": [
      "                  Word  Count\n",
      "130              &amp;    218\n",
      "210    @Erdayastronaut    140\n",
      "260            @SpaceX    138\n",
      "99                  RT    127\n",
      "678          @PPathole    123\n",
      "41            @flcnhvy    114\n",
      "19               Tesla     85\n",
      "100           @SpaceX:     71\n",
      "720     @WholeMarsBlog     68\n",
      "172             @Tesla     64\n",
      "550     @teslaownersSV     62\n",
      "319         @Teslarati     56\n",
      "38                   .     56\n",
      "347   @NASASpaceflight     54\n",
      "116                Yes     50\n",
      "864     @cleantechnica     39\n",
      "1043              like     37\n",
      "36               would     37\n",
      "105             launch     35\n",
      "297     @Kristennetten     35\n"
     ]
    }
   ],
   "source": [
    "# Print the frequency of the first 20 words in the Elon Musk tweets\n",
    "print(word_df.sort_values(by='Count', ascending=False).head(20))"
   ]
  },
  {
   "cell_type": "code",
   "execution_count": 17,
   "id": "44f82149",
   "metadata": {},
   "outputs": [],
   "source": [
    "# Calculate polarity score of tweets\n",
    "df['polarity'] = df['tweets'].apply(lambda x: sia.polarity_scores(x)['compound'])"
   ]
  },
  {
   "cell_type": "code",
   "execution_count": 18,
   "id": "2e2d3a8d",
   "metadata": {},
   "outputs": [
    {
     "name": "stdout",
     "output_type": "stream",
     "text": [
      "Top 5 Positive Tweets:\n",
      "                                                 tweets  polarity\n",
      "1388  gerberkawasaki wow super loved astronomy took ...    0.9538\n",
      "1357  great trip germany support government amp peop...    0.9325\n",
      "1172  thanks tesla team great work deliveries new ow...    0.9274\n",
      "770   privilege work people like amp respect much fe...    0.9001\n",
      "350   rationaletienne biogirl ercxspace legs would c...    0.8957\n"
     ]
    }
   ],
   "source": [
    "# Display top 5 positive posts of Category_A\n",
    "positive_tweets = df[df['polarity'] > 0].sort_values(by='polarity', ascending=False).head(5)\n",
    "print(\"Top 5 Positive Tweets:\")\n",
    "print(positive_tweets[['tweets', 'polarity']])"
   ]
  },
  {
   "cell_type": "code",
   "execution_count": 19,
   "id": "77a6e19b",
   "metadata": {},
   "outputs": [
    {
     "data": {
      "text/html": [
       "<div>\n",
       "<style scoped>\n",
       "    .dataframe tbody tr th:only-of-type {\n",
       "        vertical-align: middle;\n",
       "    }\n",
       "\n",
       "    .dataframe tbody tr th {\n",
       "        vertical-align: top;\n",
       "    }\n",
       "\n",
       "    .dataframe thead th {\n",
       "        text-align: right;\n",
       "    }\n",
       "</style>\n",
       "<table border=\"1\" class=\"dataframe\">\n",
       "  <thead>\n",
       "    <tr style=\"text-align: right;\">\n",
       "      <th></th>\n",
       "      <th>Unnamed: 0</th>\n",
       "      <th>tweets</th>\n",
       "      <th>polarity</th>\n",
       "      <th>tweet_length</th>\n",
       "    </tr>\n",
       "  </thead>\n",
       "  <tbody>\n",
       "    <tr>\n",
       "      <th>0</th>\n",
       "      <td>1</td>\n",
       "      <td>kunalb ialien</td>\n",
       "      <td>0.0000</td>\n",
       "      <td>17</td>\n",
       "    </tr>\n",
       "    <tr>\n",
       "      <th>1</th>\n",
       "      <td>2</td>\n",
       "      <td>idaacarmack ray tracing cyberpunk hdr nextleve...</td>\n",
       "      <td>0.0000</td>\n",
       "      <td>60</td>\n",
       "    </tr>\n",
       "    <tr>\n",
       "      <th>2</th>\n",
       "      <td>3</td>\n",
       "      <td>joerogan spotify great interview</td>\n",
       "      <td>0.6249</td>\n",
       "      <td>35</td>\n",
       "    </tr>\n",
       "    <tr>\n",
       "      <th>3</th>\n",
       "      <td>4</td>\n",
       "      <td>gtera doge underestimated</td>\n",
       "      <td>-0.2732</td>\n",
       "      <td>28</td>\n",
       "    </tr>\n",
       "    <tr>\n",
       "      <th>4</th>\n",
       "      <td>5</td>\n",
       "      <td>teslacn congratulations tesla china amazing ex...</td>\n",
       "      <td>0.8271</td>\n",
       "      <td>78</td>\n",
       "    </tr>\n",
       "    <tr>\n",
       "      <th>...</th>\n",
       "      <td>...</td>\n",
       "      <td>...</td>\n",
       "      <td>...</td>\n",
       "      <td>...</td>\n",
       "    </tr>\n",
       "    <tr>\n",
       "      <th>1994</th>\n",
       "      <td>1995</td>\n",
       "      <td>flcnhvy true sounds surreal negative propagand...</td>\n",
       "      <td>-0.0000</td>\n",
       "      <td>102</td>\n",
       "    </tr>\n",
       "    <tr>\n",
       "      <th>1995</th>\n",
       "      <td>1996</td>\n",
       "      <td>ppathole make sure read ur terms amp condition...</td>\n",
       "      <td>0.5994</td>\n",
       "      <td>67</td>\n",
       "    </tr>\n",
       "    <tr>\n",
       "      <th>1996</th>\n",
       "      <td>1997</td>\n",
       "      <td>teslagong ppathole samwise gamgee</td>\n",
       "      <td>0.0000</td>\n",
       "      <td>35</td>\n",
       "    </tr>\n",
       "    <tr>\n",
       "      <th>1997</th>\n",
       "      <td>1998</td>\n",
       "      <td>ppathole altho dumb dumber ufuf</td>\n",
       "      <td>-0.7003</td>\n",
       "      <td>52</td>\n",
       "    </tr>\n",
       "    <tr>\n",
       "      <th>1998</th>\n",
       "      <td>1999</td>\n",
       "      <td>progress update august</td>\n",
       "      <td>0.4215</td>\n",
       "      <td>25</td>\n",
       "    </tr>\n",
       "  </tbody>\n",
       "</table>\n",
       "<p>1999 rows × 4 columns</p>\n",
       "</div>"
      ],
      "text/plain": [
       "      Unnamed: 0                                             tweets  polarity  \\\n",
       "0              1                                      kunalb ialien    0.0000   \n",
       "1              2  idaacarmack ray tracing cyberpunk hdr nextleve...    0.0000   \n",
       "2              3                   joerogan spotify great interview    0.6249   \n",
       "3              4                          gtera doge underestimated   -0.2732   \n",
       "4              5  teslacn congratulations tesla china amazing ex...    0.8271   \n",
       "...          ...                                                ...       ...   \n",
       "1994        1995  flcnhvy true sounds surreal negative propagand...   -0.0000   \n",
       "1995        1996  ppathole make sure read ur terms amp condition...    0.5994   \n",
       "1996        1997                  teslagong ppathole samwise gamgee    0.0000   \n",
       "1997        1998                    ppathole altho dumb dumber ufuf   -0.7003   \n",
       "1998        1999                             progress update august    0.4215   \n",
       "\n",
       "      tweet_length  \n",
       "0               17  \n",
       "1               60  \n",
       "2               35  \n",
       "3               28  \n",
       "4               78  \n",
       "...            ...  \n",
       "1994           102  \n",
       "1995            67  \n",
       "1996            35  \n",
       "1997            52  \n",
       "1998            25  \n",
       "\n",
       "[1999 rows x 4 columns]"
      ]
     },
     "execution_count": 19,
     "metadata": {},
     "output_type": "execute_result"
    }
   ],
   "source": [
    "# Drop the 'Text' column from the original data\n",
    "df = df.drop(['Text'], axis=1)\n",
    "df"
   ]
  },
  {
   "cell_type": "code",
   "execution_count": 20,
   "id": "de34c46e",
   "metadata": {},
   "outputs": [],
   "source": [
    "# User-defined function to identify if tweets are positive, negative, or neutral\n",
    "def classify_sentiment(score):\n",
    "    if score > 0:\n",
    "        return 'Positive'\n",
    "    elif score < 0:\n",
    "        return 'Negative'\n",
    "    else:\n",
    "        return 'Neutral'"
   ]
  },
  {
   "cell_type": "code",
   "execution_count": 21,
   "id": "15c54d2d",
   "metadata": {},
   "outputs": [],
   "source": [
    "# Assign sentiment based on polarity score\n",
    "df['sentiment'] = df['polarity'].apply(classify_sentiment)"
   ]
  },
  {
   "cell_type": "code",
   "execution_count": 24,
   "id": "b1c2fcba",
   "metadata": {},
   "outputs": [
    {
     "data": {
      "text/html": [
       "<div>\n",
       "<style scoped>\n",
       "    .dataframe tbody tr th:only-of-type {\n",
       "        vertical-align: middle;\n",
       "    }\n",
       "\n",
       "    .dataframe tbody tr th {\n",
       "        vertical-align: top;\n",
       "    }\n",
       "\n",
       "    .dataframe thead th {\n",
       "        text-align: right;\n",
       "    }\n",
       "</style>\n",
       "<table border=\"1\" class=\"dataframe\">\n",
       "  <thead>\n",
       "    <tr style=\"text-align: right;\">\n",
       "      <th></th>\n",
       "      <th>Unnamed: 0</th>\n",
       "      <th>tweets</th>\n",
       "      <th>polarity</th>\n",
       "      <th>tweet_length</th>\n",
       "      <th>sentiment</th>\n",
       "    </tr>\n",
       "  </thead>\n",
       "  <tbody>\n",
       "    <tr>\n",
       "      <th>0</th>\n",
       "      <td>1</td>\n",
       "      <td>kunalb ialien</td>\n",
       "      <td>0.0000</td>\n",
       "      <td>17</td>\n",
       "      <td>Neutral</td>\n",
       "    </tr>\n",
       "    <tr>\n",
       "      <th>1</th>\n",
       "      <td>2</td>\n",
       "      <td>idaacarmack ray tracing cyberpunk hdr nextleve...</td>\n",
       "      <td>0.0000</td>\n",
       "      <td>60</td>\n",
       "      <td>Neutral</td>\n",
       "    </tr>\n",
       "    <tr>\n",
       "      <th>2</th>\n",
       "      <td>3</td>\n",
       "      <td>joerogan spotify great interview</td>\n",
       "      <td>0.6249</td>\n",
       "      <td>35</td>\n",
       "      <td>Positive</td>\n",
       "    </tr>\n",
       "    <tr>\n",
       "      <th>3</th>\n",
       "      <td>4</td>\n",
       "      <td>gtera doge underestimated</td>\n",
       "      <td>-0.2732</td>\n",
       "      <td>28</td>\n",
       "      <td>Negative</td>\n",
       "    </tr>\n",
       "    <tr>\n",
       "      <th>4</th>\n",
       "      <td>5</td>\n",
       "      <td>teslacn congratulations tesla china amazing ex...</td>\n",
       "      <td>0.8271</td>\n",
       "      <td>78</td>\n",
       "      <td>Positive</td>\n",
       "    </tr>\n",
       "    <tr>\n",
       "      <th>...</th>\n",
       "      <td>...</td>\n",
       "      <td>...</td>\n",
       "      <td>...</td>\n",
       "      <td>...</td>\n",
       "      <td>...</td>\n",
       "    </tr>\n",
       "    <tr>\n",
       "      <th>1994</th>\n",
       "      <td>1995</td>\n",
       "      <td>flcnhvy true sounds surreal negative propagand...</td>\n",
       "      <td>-0.0000</td>\n",
       "      <td>102</td>\n",
       "      <td>Neutral</td>\n",
       "    </tr>\n",
       "    <tr>\n",
       "      <th>1995</th>\n",
       "      <td>1996</td>\n",
       "      <td>ppathole make sure read ur terms amp condition...</td>\n",
       "      <td>0.5994</td>\n",
       "      <td>67</td>\n",
       "      <td>Positive</td>\n",
       "    </tr>\n",
       "    <tr>\n",
       "      <th>1996</th>\n",
       "      <td>1997</td>\n",
       "      <td>teslagong ppathole samwise gamgee</td>\n",
       "      <td>0.0000</td>\n",
       "      <td>35</td>\n",
       "      <td>Neutral</td>\n",
       "    </tr>\n",
       "    <tr>\n",
       "      <th>1997</th>\n",
       "      <td>1998</td>\n",
       "      <td>ppathole altho dumb dumber ufuf</td>\n",
       "      <td>-0.7003</td>\n",
       "      <td>52</td>\n",
       "      <td>Negative</td>\n",
       "    </tr>\n",
       "    <tr>\n",
       "      <th>1998</th>\n",
       "      <td>1999</td>\n",
       "      <td>progress update august</td>\n",
       "      <td>0.4215</td>\n",
       "      <td>25</td>\n",
       "      <td>Positive</td>\n",
       "    </tr>\n",
       "  </tbody>\n",
       "</table>\n",
       "<p>1999 rows × 5 columns</p>\n",
       "</div>"
      ],
      "text/plain": [
       "      Unnamed: 0                                             tweets  polarity  \\\n",
       "0              1                                      kunalb ialien    0.0000   \n",
       "1              2  idaacarmack ray tracing cyberpunk hdr nextleve...    0.0000   \n",
       "2              3                   joerogan spotify great interview    0.6249   \n",
       "3              4                          gtera doge underestimated   -0.2732   \n",
       "4              5  teslacn congratulations tesla china amazing ex...    0.8271   \n",
       "...          ...                                                ...       ...   \n",
       "1994        1995  flcnhvy true sounds surreal negative propagand...   -0.0000   \n",
       "1995        1996  ppathole make sure read ur terms amp condition...    0.5994   \n",
       "1996        1997                  teslagong ppathole samwise gamgee    0.0000   \n",
       "1997        1998                    ppathole altho dumb dumber ufuf   -0.7003   \n",
       "1998        1999                             progress update august    0.4215   \n",
       "\n",
       "      tweet_length sentiment  \n",
       "0               17   Neutral  \n",
       "1               60   Neutral  \n",
       "2               35  Positive  \n",
       "3               28  Negative  \n",
       "4               78  Positive  \n",
       "...            ...       ...  \n",
       "1994           102   Neutral  \n",
       "1995            67  Positive  \n",
       "1996            35   Neutral  \n",
       "1997            52  Negative  \n",
       "1998            25  Positive  \n",
       "\n",
       "[1999 rows x 5 columns]"
      ]
     },
     "execution_count": 24,
     "metadata": {},
     "output_type": "execute_result"
    }
   ],
   "source": [
    "df"
   ]
  },
  {
   "cell_type": "code",
   "execution_count": 26,
   "id": "a40fd28f",
   "metadata": {},
   "outputs": [
    {
     "data": {
      "text/plain": [
       "Unnamed: 0         int64\n",
       "tweets            object\n",
       "polarity         float64\n",
       "tweet_length       int64\n",
       "sentiment         object\n",
       "category        category\n",
       "dtype: object"
      ]
     },
     "execution_count": 26,
     "metadata": {},
     "output_type": "execute_result"
    }
   ],
   "source": [
    "df[\"category\"]=df['polarity']\n",
    "\n",
    "df.loc[df.category > 0,'category']=\"Positive\"\n",
    "df.loc[df.category !='Positive','category']=\"Negative\"\n",
    "\n",
    "df[\"category\"]=df[\"category\"].astype('category')\n",
    "df.dtypes"
   ]
  },
  {
   "cell_type": "code",
   "execution_count": 27,
   "id": "45a36ccd",
   "metadata": {},
   "outputs": [
    {
     "data": {
      "text/plain": [
       "<AxesSubplot:xlabel='category', ylabel='count'>"
      ]
     },
     "execution_count": 27,
     "metadata": {},
     "output_type": "execute_result"
    },
    {
     "data": {
      "image/png": "[encoded data removed]",
      "text/plain": [
       "<Figure size 432x288 with 1 Axes>"
      ]
     },
     "metadata": {
      "needs_background": "light"
     },
     "output_type": "display_data"
    }
   ],
   "source": [
    "import seaborn as sns\n",
    "sns.countplot(x = 'category', data=df)"
   ]
  },
  {
   "cell_type": "code",
   "execution_count": 28,
   "id": "450bd5a7",
   "metadata": {},
   "outputs": [
    {
     "data": {
      "text/plain": [
       "Negative    55.577789\n",
       "Positive    44.422211\n",
       "Name: category, dtype: float64"
      ]
     },
     "execution_count": 28,
     "metadata": {},
     "output_type": "execute_result"
    }
   ],
   "source": [
    "df.category.value_counts(normalize=True).mul(100)"
   ]
  },
  {
   "cell_type": "code",
   "execution_count": null,
   "id": "c0080cf7",
   "metadata": {},
   "outputs": [],
   "source": []
  }
 ],
 "metadata": {
  "kernelspec": {
   "display_name": "Python 3 (ipykernel)",
   "language": "python",
   "name": "python3"
  },
  "language_info": {
   "codemirror_mode": {
    "name": "ipython",
    "version": 3
   },
   "file_extension": ".py",
   "mimetype": "text/x-python",
   "name": "python",
   "nbconvert_exporter": "python",
   "pygments_lexer": "ipython3",
   "version": "3.9.12"
  }
 },
 "nbformat": 4,
 "nbformat_minor": 5
}

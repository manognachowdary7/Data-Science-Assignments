{
 "cells": [
  {
   "cell_type": "code",
   "execution_count": 1,
   "id": "233ebab7",
   "metadata": {},
   "outputs": [],
   "source": [
    "import pandas as pd\n",
    "import numpy as np\n",
    "import matplotlib.pyplot as plt\n",
    "import seaborn as sns"
   ]
  },
  {
   "cell_type": "code",
   "execution_count": 2,
   "id": "c57c34dd",
   "metadata": {},
   "outputs": [],
   "source": [
    "#question7\n",
    "data = pd.read_csv(\"Q7.csv\")"
   ]
  },
  {
   "cell_type": "code",
   "execution_count": 3,
   "id": "87f3b829",
   "metadata": {},
   "outputs": [
    {
     "data": {
      "text/html": [
       "<div>\n",
       "<style scoped>\n",
       "    .dataframe tbody tr th:only-of-type {\n",
       "        vertical-align: middle;\n",
       "    }\n",
       "\n",
       "    .dataframe tbody tr th {\n",
       "        vertical-align: top;\n",
       "    }\n",
       "\n",
       "    .dataframe thead th {\n",
       "        text-align: right;\n",
       "    }\n",
       "</style>\n",
       "<table border=\"1\" class=\"dataframe\">\n",
       "  <thead>\n",
       "    <tr style=\"text-align: right;\">\n",
       "      <th></th>\n",
       "      <th>Unnamed: 0</th>\n",
       "      <th>Points</th>\n",
       "      <th>Score</th>\n",
       "      <th>Weigh</th>\n",
       "    </tr>\n",
       "  </thead>\n",
       "  <tbody>\n",
       "    <tr>\n",
       "      <th>0</th>\n",
       "      <td>Mazda RX4</td>\n",
       "      <td>3.90</td>\n",
       "      <td>2.620</td>\n",
       "      <td>16.46</td>\n",
       "    </tr>\n",
       "    <tr>\n",
       "      <th>1</th>\n",
       "      <td>Mazda RX4 Wag</td>\n",
       "      <td>3.90</td>\n",
       "      <td>2.875</td>\n",
       "      <td>17.02</td>\n",
       "    </tr>\n",
       "    <tr>\n",
       "      <th>2</th>\n",
       "      <td>Datsun 710</td>\n",
       "      <td>3.85</td>\n",
       "      <td>2.320</td>\n",
       "      <td>18.61</td>\n",
       "    </tr>\n",
       "    <tr>\n",
       "      <th>3</th>\n",
       "      <td>Hornet 4 Drive</td>\n",
       "      <td>3.08</td>\n",
       "      <td>3.215</td>\n",
       "      <td>19.44</td>\n",
       "    </tr>\n",
       "    <tr>\n",
       "      <th>4</th>\n",
       "      <td>Hornet Sportabout</td>\n",
       "      <td>3.15</td>\n",
       "      <td>3.440</td>\n",
       "      <td>17.02</td>\n",
       "    </tr>\n",
       "  </tbody>\n",
       "</table>\n",
       "</div>"
      ],
      "text/plain": [
       "          Unnamed: 0  Points  Score  Weigh\n",
       "0          Mazda RX4    3.90  2.620  16.46\n",
       "1      Mazda RX4 Wag    3.90  2.875  17.02\n",
       "2         Datsun 710    3.85  2.320  18.61\n",
       "3     Hornet 4 Drive    3.08  3.215  19.44\n",
       "4  Hornet Sportabout    3.15  3.440  17.02"
      ]
     },
     "execution_count": 3,
     "metadata": {},
     "output_type": "execute_result"
    }
   ],
   "source": [
    "data.head()"
   ]
  },
  {
   "cell_type": "code",
   "execution_count": 4,
   "id": "c4bb7dc1",
   "metadata": {},
   "outputs": [],
   "source": [
    "df1 = data.iloc[:,1:4]"
   ]
  },
  {
   "cell_type": "code",
   "execution_count": 5,
   "id": "b49eb2d4",
   "metadata": {},
   "outputs": [
    {
     "data": {
      "text/html": [
       "<div>\n",
       "<style scoped>\n",
       "    .dataframe tbody tr th:only-of-type {\n",
       "        vertical-align: middle;\n",
       "    }\n",
       "\n",
       "    .dataframe tbody tr th {\n",
       "        vertical-align: top;\n",
       "    }\n",
       "\n",
       "    .dataframe thead th {\n",
       "        text-align: right;\n",
       "    }\n",
       "</style>\n",
       "<table border=\"1\" class=\"dataframe\">\n",
       "  <thead>\n",
       "    <tr style=\"text-align: right;\">\n",
       "      <th></th>\n",
       "      <th>Points</th>\n",
       "      <th>Score</th>\n",
       "      <th>Weigh</th>\n",
       "    </tr>\n",
       "  </thead>\n",
       "  <tbody>\n",
       "    <tr>\n",
       "      <th>0</th>\n",
       "      <td>3.90</td>\n",
       "      <td>2.620</td>\n",
       "      <td>16.46</td>\n",
       "    </tr>\n",
       "    <tr>\n",
       "      <th>1</th>\n",
       "      <td>3.90</td>\n",
       "      <td>2.875</td>\n",
       "      <td>17.02</td>\n",
       "    </tr>\n",
       "    <tr>\n",
       "      <th>2</th>\n",
       "      <td>3.85</td>\n",
       "      <td>2.320</td>\n",
       "      <td>18.61</td>\n",
       "    </tr>\n",
       "    <tr>\n",
       "      <th>3</th>\n",
       "      <td>3.08</td>\n",
       "      <td>3.215</td>\n",
       "      <td>19.44</td>\n",
       "    </tr>\n",
       "    <tr>\n",
       "      <th>4</th>\n",
       "      <td>3.15</td>\n",
       "      <td>3.440</td>\n",
       "      <td>17.02</td>\n",
       "    </tr>\n",
       "  </tbody>\n",
       "</table>\n",
       "</div>"
      ],
      "text/plain": [
       "   Points  Score  Weigh\n",
       "0    3.90  2.620  16.46\n",
       "1    3.90  2.875  17.02\n",
       "2    3.85  2.320  18.61\n",
       "3    3.08  3.215  19.44\n",
       "4    3.15  3.440  17.02"
      ]
     },
     "execution_count": 5,
     "metadata": {},
     "output_type": "execute_result"
    }
   ],
   "source": [
    "df1.head()"
   ]
  },
  {
   "cell_type": "code",
   "execution_count": 6,
   "id": "1a954dd7",
   "metadata": {},
   "outputs": [
    {
     "data": {
      "text/html": [
       "<div>\n",
       "<style scoped>\n",
       "    .dataframe tbody tr th:only-of-type {\n",
       "        vertical-align: middle;\n",
       "    }\n",
       "\n",
       "    .dataframe tbody tr th {\n",
       "        vertical-align: top;\n",
       "    }\n",
       "\n",
       "    .dataframe thead th {\n",
       "        text-align: right;\n",
       "    }\n",
       "</style>\n",
       "<table border=\"1\" class=\"dataframe\">\n",
       "  <thead>\n",
       "    <tr style=\"text-align: right;\">\n",
       "      <th></th>\n",
       "      <th>Points</th>\n",
       "      <th>Score</th>\n",
       "      <th>Weigh</th>\n",
       "    </tr>\n",
       "  </thead>\n",
       "  <tbody>\n",
       "    <tr>\n",
       "      <th>count</th>\n",
       "      <td>32.000000</td>\n",
       "      <td>32.000000</td>\n",
       "      <td>32.000000</td>\n",
       "    </tr>\n",
       "    <tr>\n",
       "      <th>mean</th>\n",
       "      <td>3.596563</td>\n",
       "      <td>3.217250</td>\n",
       "      <td>17.848750</td>\n",
       "    </tr>\n",
       "    <tr>\n",
       "      <th>std</th>\n",
       "      <td>0.534679</td>\n",
       "      <td>0.978457</td>\n",
       "      <td>1.786943</td>\n",
       "    </tr>\n",
       "    <tr>\n",
       "      <th>min</th>\n",
       "      <td>2.760000</td>\n",
       "      <td>1.513000</td>\n",
       "      <td>14.500000</td>\n",
       "    </tr>\n",
       "    <tr>\n",
       "      <th>25%</th>\n",
       "      <td>3.080000</td>\n",
       "      <td>2.581250</td>\n",
       "      <td>16.892500</td>\n",
       "    </tr>\n",
       "    <tr>\n",
       "      <th>50%</th>\n",
       "      <td>3.695000</td>\n",
       "      <td>3.325000</td>\n",
       "      <td>17.710000</td>\n",
       "    </tr>\n",
       "    <tr>\n",
       "      <th>75%</th>\n",
       "      <td>3.920000</td>\n",
       "      <td>3.610000</td>\n",
       "      <td>18.900000</td>\n",
       "    </tr>\n",
       "    <tr>\n",
       "      <th>max</th>\n",
       "      <td>4.930000</td>\n",
       "      <td>5.424000</td>\n",
       "      <td>22.900000</td>\n",
       "    </tr>\n",
       "  </tbody>\n",
       "</table>\n",
       "</div>"
      ],
      "text/plain": [
       "          Points      Score      Weigh\n",
       "count  32.000000  32.000000  32.000000\n",
       "mean    3.596563   3.217250  17.848750\n",
       "std     0.534679   0.978457   1.786943\n",
       "min     2.760000   1.513000  14.500000\n",
       "25%     3.080000   2.581250  16.892500\n",
       "50%     3.695000   3.325000  17.710000\n",
       "75%     3.920000   3.610000  18.900000\n",
       "max     4.930000   5.424000  22.900000"
      ]
     },
     "execution_count": 6,
     "metadata": {},
     "output_type": "execute_result"
    }
   ],
   "source": [
    "df1.describe()"
   ]
  },
  {
   "cell_type": "code",
   "execution_count": 7,
   "id": "4dcdb596",
   "metadata": {},
   "outputs": [],
   "source": [
    "variance = df1.var()"
   ]
  },
  {
   "cell_type": "code",
   "execution_count": 8,
   "id": "ceaa5a11",
   "metadata": {},
   "outputs": [
    {
     "data": {
      "text/plain": [
       "Points    0.285881\n",
       "Score     0.957379\n",
       "Weigh     3.193166\n",
       "dtype: float64"
      ]
     },
     "execution_count": 8,
     "metadata": {},
     "output_type": "execute_result"
    }
   ],
   "source": [
    "variance"
   ]
  },
  {
   "cell_type": "code",
   "execution_count": 9,
   "id": "077d51b1",
   "metadata": {},
   "outputs": [],
   "source": [
    "mode = df1.mode()"
   ]
  },
  {
   "cell_type": "code",
   "execution_count": 10,
   "id": "32f129e1",
   "metadata": {},
   "outputs": [
    {
     "data": {
      "text/html": [
       "<div>\n",
       "<style scoped>\n",
       "    .dataframe tbody tr th:only-of-type {\n",
       "        vertical-align: middle;\n",
       "    }\n",
       "\n",
       "    .dataframe tbody tr th {\n",
       "        vertical-align: top;\n",
       "    }\n",
       "\n",
       "    .dataframe thead th {\n",
       "        text-align: right;\n",
       "    }\n",
       "</style>\n",
       "<table border=\"1\" class=\"dataframe\">\n",
       "  <thead>\n",
       "    <tr style=\"text-align: right;\">\n",
       "      <th></th>\n",
       "      <th>Points</th>\n",
       "      <th>Score</th>\n",
       "      <th>Weigh</th>\n",
       "    </tr>\n",
       "  </thead>\n",
       "  <tbody>\n",
       "    <tr>\n",
       "      <th>0</th>\n",
       "      <td>3.07</td>\n",
       "      <td>3.44</td>\n",
       "      <td>17.02</td>\n",
       "    </tr>\n",
       "    <tr>\n",
       "      <th>1</th>\n",
       "      <td>3.92</td>\n",
       "      <td>NaN</td>\n",
       "      <td>18.90</td>\n",
       "    </tr>\n",
       "  </tbody>\n",
       "</table>\n",
       "</div>"
      ],
      "text/plain": [
       "   Points  Score  Weigh\n",
       "0    3.07   3.44  17.02\n",
       "1    3.92    NaN  18.90"
      ]
     },
     "execution_count": 10,
     "metadata": {},
     "output_type": "execute_result"
    }
   ],
   "source": [
    "mode"
   ]
  },
  {
   "cell_type": "code",
   "execution_count": 11,
   "id": "7a55b554",
   "metadata": {},
   "outputs": [
    {
     "data": {
      "text/plain": [
       "{'whiskers': [<matplotlib.lines.Line2D at 0x249b5bcc9a0>,\n",
       "  <matplotlib.lines.Line2D at 0x249b5bccc70>],\n",
       " 'caps': [<matplotlib.lines.Line2D at 0x249b5bccfa0>,\n",
       "  <matplotlib.lines.Line2D at 0x249b6283250>],\n",
       " 'boxes': [<matplotlib.lines.Line2D at 0x249b5bcc6d0>],\n",
       " 'medians': [<matplotlib.lines.Line2D at 0x249b6283520>],\n",
       " 'fliers': [<matplotlib.lines.Line2D at 0x249b62837f0>],\n",
       " 'means': []}"
      ]
     },
     "execution_count": 11,
     "metadata": {},
     "output_type": "execute_result"
    },
    {
     "data": {
      "image/png": "[encoded data removed]",
      "text/plain": [
       "<Figure size 432x288 with 1 Axes>"
      ]
     },
     "metadata": {
      "needs_background": "light"
     },
     "output_type": "display_data"
    }
   ],
   "source": [
    "plt.boxplot(df1[\"Points\"])"
   ]
  },
  {
   "cell_type": "code",
   "execution_count": 12,
   "id": "f94d147c",
   "metadata": {},
   "outputs": [
    {
     "data": {
      "text/plain": [
       "{'whiskers': [<matplotlib.lines.Line2D at 0x249b636b1c0>,\n",
       "  <matplotlib.lines.Line2D at 0x249b636b490>],\n",
       " 'caps': [<matplotlib.lines.Line2D at 0x249b636b760>,\n",
       "  <matplotlib.lines.Line2D at 0x249b636ba30>],\n",
       " 'boxes': [<matplotlib.lines.Line2D at 0x249b635beb0>],\n",
       " 'medians': [<matplotlib.lines.Line2D at 0x249b636bd00>],\n",
       " 'fliers': [<matplotlib.lines.Line2D at 0x249b636bfd0>],\n",
       " 'means': []}"
      ]
     },
     "execution_count": 12,
     "metadata": {},
     "output_type": "execute_result"
    },
    {
     "data": {
      "image/png": "[encoded data removed]",
      "text/plain": [
       "<Figure size 432x288 with 1 Axes>"
      ]
     },
     "metadata": {
      "needs_background": "light"
     },
     "output_type": "display_data"
    }
   ],
   "source": [
    "plt.boxplot(df1[\"Score\"])"
   ]
  },
  {
   "cell_type": "code",
   "execution_count": 13,
   "id": "c2871f09",
   "metadata": {},
   "outputs": [
    {
     "data": {
      "text/plain": [
       "{'whiskers': [<matplotlib.lines.Line2D at 0x249b63d3df0>,\n",
       "  <matplotlib.lines.Line2D at 0x249b63e4130>],\n",
       " 'caps': [<matplotlib.lines.Line2D at 0x249b63e4400>,\n",
       "  <matplotlib.lines.Line2D at 0x249b63e46d0>],\n",
       " 'boxes': [<matplotlib.lines.Line2D at 0x249b63d3af0>],\n",
       " 'medians': [<matplotlib.lines.Line2D at 0x249b63e49a0>],\n",
       " 'fliers': [<matplotlib.lines.Line2D at 0x249b63e4c70>],\n",
       " 'means': []}"
      ]
     },
     "execution_count": 13,
     "metadata": {},
     "output_type": "execute_result"
    },
    {
     "data": {
      "image/png": "[encoded data removed]",
      "text/plain": [
       "<Figure size 432x288 with 1 Axes>"
      ]
     },
     "metadata": {
      "needs_background": "light"
     },
     "output_type": "display_data"
    }
   ],
   "source": [
    "plt.boxplot(df1[\"Weigh\"])"
   ]
  },
  {
   "cell_type": "code",
   "execution_count": 14,
   "id": "c1be479b",
   "metadata": {},
   "outputs": [
    {
     "name": "stdout",
     "output_type": "stream",
     "text": [
      "2.17\n"
     ]
    }
   ],
   "source": [
    "range1 = max(df1[\"Points\"]) - min(df1[\"Points\"])\n",
    "print(range1)"
   ]
  },
  {
   "cell_type": "code",
   "execution_count": 15,
   "id": "4d5ecac3",
   "metadata": {},
   "outputs": [
    {
     "name": "stdout",
     "output_type": "stream",
     "text": [
      "3.9110000000000005\n"
     ]
    }
   ],
   "source": [
    "range2 = max(df1[\"Score\"]) - min(df1[\"Score\"])\n",
    "print(range2)"
   ]
  },
  {
   "cell_type": "code",
   "execution_count": 16,
   "id": "a90dc1c1",
   "metadata": {},
   "outputs": [
    {
     "name": "stdout",
     "output_type": "stream",
     "text": [
      "8.399999999999999\n"
     ]
    }
   ],
   "source": [
    "range3 = max(df1[\"Weigh\"]) - min(df1[\"Weigh\"])\n",
    "print(range3)"
   ]
  },
  {
   "cell_type": "code",
   "execution_count": 17,
   "id": "33a0ff9d",
   "metadata": {},
   "outputs": [
    {
     "data": {
      "text/plain": [
       "145.33333333333334"
      ]
     },
     "execution_count": 17,
     "metadata": {},
     "output_type": "execute_result"
    }
   ],
   "source": [
    "#question8\n",
    "\n",
    "arr = [108, 110, 123, 134, 135, 145, 167, 187, 199]\n",
    "np.mean(arr)"
   ]
  },
  {
   "cell_type": "code",
   "execution_count": 18,
   "id": "9b80c521",
   "metadata": {},
   "outputs": [],
   "source": [
    "#question9\n",
    "df = pd.read_csv(\"Q9_a.csv\")"
   ]
  },
  {
   "cell_type": "code",
   "execution_count": 19,
   "id": "b5f34bc9",
   "metadata": {},
   "outputs": [
    {
     "data": {
      "text/html": [
       "<div>\n",
       "<style scoped>\n",
       "    .dataframe tbody tr th:only-of-type {\n",
       "        vertical-align: middle;\n",
       "    }\n",
       "\n",
       "    .dataframe tbody tr th {\n",
       "        vertical-align: top;\n",
       "    }\n",
       "\n",
       "    .dataframe thead th {\n",
       "        text-align: right;\n",
       "    }\n",
       "</style>\n",
       "<table border=\"1\" class=\"dataframe\">\n",
       "  <thead>\n",
       "    <tr style=\"text-align: right;\">\n",
       "      <th></th>\n",
       "      <th>Index</th>\n",
       "      <th>speed</th>\n",
       "      <th>dist</th>\n",
       "    </tr>\n",
       "  </thead>\n",
       "  <tbody>\n",
       "    <tr>\n",
       "      <th>0</th>\n",
       "      <td>1</td>\n",
       "      <td>4</td>\n",
       "      <td>2</td>\n",
       "    </tr>\n",
       "    <tr>\n",
       "      <th>1</th>\n",
       "      <td>2</td>\n",
       "      <td>4</td>\n",
       "      <td>10</td>\n",
       "    </tr>\n",
       "    <tr>\n",
       "      <th>2</th>\n",
       "      <td>3</td>\n",
       "      <td>7</td>\n",
       "      <td>4</td>\n",
       "    </tr>\n",
       "    <tr>\n",
       "      <th>3</th>\n",
       "      <td>4</td>\n",
       "      <td>7</td>\n",
       "      <td>22</td>\n",
       "    </tr>\n",
       "    <tr>\n",
       "      <th>4</th>\n",
       "      <td>5</td>\n",
       "      <td>8</td>\n",
       "      <td>16</td>\n",
       "    </tr>\n",
       "    <tr>\n",
       "      <th>5</th>\n",
       "      <td>6</td>\n",
       "      <td>9</td>\n",
       "      <td>10</td>\n",
       "    </tr>\n",
       "  </tbody>\n",
       "</table>\n",
       "</div>"
      ],
      "text/plain": [
       "   Index  speed  dist\n",
       "0      1      4     2\n",
       "1      2      4    10\n",
       "2      3      7     4\n",
       "3      4      7    22\n",
       "4      5      8    16\n",
       "5      6      9    10"
      ]
     },
     "execution_count": 19,
     "metadata": {},
     "output_type": "execute_result"
    }
   ],
   "source": [
    "df.head(6)"
   ]
  },
  {
   "cell_type": "code",
   "execution_count": 20,
   "id": "83d06e81",
   "metadata": {},
   "outputs": [
    {
     "name": "stdout",
     "output_type": "stream",
     "text": [
      "Index    0.000000\n",
      "speed   -0.117510\n",
      "dist     0.806895\n",
      "dtype: float64\n"
     ]
    }
   ],
   "source": [
    "skewness = df.skew()\n",
    "print(skewness)"
   ]
  },
  {
   "cell_type": "code",
   "execution_count": 21,
   "id": "97232c22",
   "metadata": {},
   "outputs": [
    {
     "name": "stdout",
     "output_type": "stream",
     "text": [
      "Index   -1.200000\n",
      "speed   -0.508994\n",
      "dist     0.405053\n",
      "dtype: float64\n"
     ]
    }
   ],
   "source": [
    "kurtosis = df.kurtosis()\n",
    "print(kurtosis)"
   ]
  },
  {
   "cell_type": "code",
   "execution_count": 22,
   "id": "53af2d4d",
   "metadata": {},
   "outputs": [
    {
     "data": {
      "text/plain": [
       "(array([2., 3., 4., 6., 8., 5., 7., 8., 1., 6.]),\n",
       " array([ 4. ,  6.1,  8.2, 10.3, 12.4, 14.5, 16.6, 18.7, 20.8, 22.9, 25. ]),\n",
       " <BarContainer object of 10 artists>)"
      ]
     },
     "execution_count": 22,
     "metadata": {},
     "output_type": "execute_result"
    },
    {
     "data": {
      "image/png": "[encoded data removed]",
      "text/plain": [
       "<Figure size 432x288 with 1 Axes>"
      ]
     },
     "metadata": {
      "needs_background": "light"
     },
     "output_type": "display_data"
    }
   ],
   "source": [
    "plt.hist(df[\"speed\"])"
   ]
  },
  {
   "cell_type": "code",
   "execution_count": 23,
   "id": "7a078400",
   "metadata": {},
   "outputs": [
    {
     "data": {
      "text/plain": [
       "(array([ 4.,  8., 14.,  6.,  7.,  4.,  3.,  3.,  0.,  1.]),\n",
       " array([  2. ,  13.8,  25.6,  37.4,  49.2,  61. ,  72.8,  84.6,  96.4,\n",
       "        108.2, 120. ]),\n",
       " <BarContainer object of 10 artists>)"
      ]
     },
     "execution_count": 23,
     "metadata": {},
     "output_type": "execute_result"
    },
    {
     "data": {
      "image/png": "[encoded data removed]",
      "text/plain": [
       "<Figure size 432x288 with 1 Axes>"
      ]
     },
     "metadata": {
      "needs_background": "light"
     },
     "output_type": "display_data"
    }
   ],
   "source": [
    "plt.hist(df[\"dist\"])"
   ]
  },
  {
   "cell_type": "code",
   "execution_count": 24,
   "id": "7dfeca68",
   "metadata": {},
   "outputs": [],
   "source": [
    "df2 = pd.read_csv(\"Q9_b.csv\")"
   ]
  },
  {
   "cell_type": "code",
   "execution_count": 25,
   "id": "c719370a",
   "metadata": {},
   "outputs": [
    {
     "data": {
      "text/html": [
       "<div>\n",
       "<style scoped>\n",
       "    .dataframe tbody tr th:only-of-type {\n",
       "        vertical-align: middle;\n",
       "    }\n",
       "\n",
       "    .dataframe tbody tr th {\n",
       "        vertical-align: top;\n",
       "    }\n",
       "\n",
       "    .dataframe thead th {\n",
       "        text-align: right;\n",
       "    }\n",
       "</style>\n",
       "<table border=\"1\" class=\"dataframe\">\n",
       "  <thead>\n",
       "    <tr style=\"text-align: right;\">\n",
       "      <th></th>\n",
       "      <th>Unnamed: 0</th>\n",
       "      <th>SP</th>\n",
       "      <th>WT</th>\n",
       "    </tr>\n",
       "  </thead>\n",
       "  <tbody>\n",
       "    <tr>\n",
       "      <th>0</th>\n",
       "      <td>1</td>\n",
       "      <td>104.185353</td>\n",
       "      <td>28.762059</td>\n",
       "    </tr>\n",
       "    <tr>\n",
       "      <th>1</th>\n",
       "      <td>2</td>\n",
       "      <td>105.461264</td>\n",
       "      <td>30.466833</td>\n",
       "    </tr>\n",
       "    <tr>\n",
       "      <th>2</th>\n",
       "      <td>3</td>\n",
       "      <td>105.461264</td>\n",
       "      <td>30.193597</td>\n",
       "    </tr>\n",
       "    <tr>\n",
       "      <th>3</th>\n",
       "      <td>4</td>\n",
       "      <td>113.461264</td>\n",
       "      <td>30.632114</td>\n",
       "    </tr>\n",
       "    <tr>\n",
       "      <th>4</th>\n",
       "      <td>5</td>\n",
       "      <td>104.461264</td>\n",
       "      <td>29.889149</td>\n",
       "    </tr>\n",
       "  </tbody>\n",
       "</table>\n",
       "</div>"
      ],
      "text/plain": [
       "   Unnamed: 0          SP         WT\n",
       "0           1  104.185353  28.762059\n",
       "1           2  105.461264  30.466833\n",
       "2           3  105.461264  30.193597\n",
       "3           4  113.461264  30.632114\n",
       "4           5  104.461264  29.889149"
      ]
     },
     "execution_count": 25,
     "metadata": {},
     "output_type": "execute_result"
    }
   ],
   "source": [
    "df2.head()"
   ]
  },
  {
   "cell_type": "code",
   "execution_count": 26,
   "id": "4eafee7d",
   "metadata": {},
   "outputs": [
    {
     "name": "stdout",
     "output_type": "stream",
     "text": [
      "Unnamed: 0    0.000000\n",
      "SP            1.611450\n",
      "WT           -0.614753\n",
      "dtype: float64\n"
     ]
    }
   ],
   "source": [
    "skewness1 = df2.skew()\n",
    "print(skewness1)"
   ]
  },
  {
   "cell_type": "code",
   "execution_count": 27,
   "id": "0f301202",
   "metadata": {},
   "outputs": [
    {
     "name": "stdout",
     "output_type": "stream",
     "text": [
      "Unnamed: 0   -1.200000\n",
      "SP            2.977329\n",
      "WT            0.950291\n",
      "dtype: float64\n"
     ]
    }
   ],
   "source": [
    "kurtosis1 = df2.kurtosis()\n",
    "print(kurtosis1)"
   ]
  },
  {
   "cell_type": "code",
   "execution_count": 28,
   "id": "41fe4224",
   "metadata": {},
   "outputs": [
    {
     "data": {
      "text/plain": [
       "(array([ 8., 12., 32., 10., 10.,  2.,  1.,  2.,  1.,  3.]),\n",
       " array([ 99.56490661, 106.56826723, 113.57162785, 120.57498847,\n",
       "        127.57834909, 134.58170971, 141.58507032, 148.58843094,\n",
       "        155.59179156, 162.59515218, 169.5985128 ]),\n",
       " <BarContainer object of 10 artists>)"
      ]
     },
     "execution_count": 28,
     "metadata": {},
     "output_type": "execute_result"
    },
    {
     "data": {
      "image/png": "[encoded data removed]",
      "text/plain": [
       "<Figure size 432x288 with 1 Axes>"
      ]
     },
     "metadata": {
      "needs_background": "light"
     },
     "output_type": "display_data"
    }
   ],
   "source": [
    "plt.hist(df2[\"SP\"])"
   ]
  },
  {
   "cell_type": "code",
   "execution_count": 29,
   "id": "6b452ab2",
   "metadata": {},
   "outputs": [
    {
     "data": {
      "text/plain": [
       "(array([ 9.,  0.,  0., 22., 19., 18.,  7.,  5.,  0.,  1.]),\n",
       " array([15.71285853, 19.44134791, 23.1698373 , 26.89832668, 30.62681606,\n",
       "        34.35530544, 38.08379483, 41.81228421, 45.54077359, 49.26926298,\n",
       "        52.99775236]),\n",
       " <BarContainer object of 10 artists>)"
      ]
     },
     "execution_count": 29,
     "metadata": {},
     "output_type": "execute_result"
    },
    {
     "data": {
      "image/png": "[encoded data removed]",
      "text/plain": [
       "<Figure size 432x288 with 1 Axes>"
      ]
     },
     "metadata": {
      "needs_background": "light"
     },
     "output_type": "display_data"
    }
   ],
   "source": [
    "plt.hist(df2[\"WT\"])"
   ]
  },
  {
   "cell_type": "code",
   "execution_count": 30,
   "id": "efdf63f0",
   "metadata": {},
   "outputs": [
    {
     "name": "stdout",
     "output_type": "stream",
     "text": [
      "1.5547735945968535\n",
      "2.0537489106318225\n",
      "1.7506860712521692\n"
     ]
    }
   ],
   "source": [
    "#question11\n",
    "import math\n",
    "from scipy import stats\n",
    "\n",
    "print(stats.norm.ppf(0.94))\n",
    "print(stats.norm.ppf(0.98))\n",
    "print(stats.norm.ppf(0.96))"
   ]
  },
  {
   "cell_type": "code",
   "execution_count": 31,
   "id": "5fabd71f",
   "metadata": {},
   "outputs": [
    {
     "name": "stdout",
     "output_type": "stream",
     "text": [
      "201.0429738341421\n",
      "198.9570261658579\n"
     ]
    }
   ],
   "source": [
    "#p=0.94\n",
    "\n",
    "print(200+(1.55477359459685*(30/(np.sqrt(2000)))))\n",
    "print(200-(1.55477359459685*(30/(np.sqrt(2000)))))"
   ]
  },
  {
   "cell_type": "code",
   "execution_count": 32,
   "id": "44d3e218",
   "metadata": {},
   "outputs": [
    {
     "name": "stdout",
     "output_type": "stream",
     "text": [
      "201.37769665186667\n",
      "198.62230334813333\n"
     ]
    }
   ],
   "source": [
    "#p=0.98\n",
    "\n",
    "print(200+(2.0537489106318225*(30/(np.sqrt(2000)))))\n",
    "print(200-(2.0537489106318225*(30/(np.sqrt(2000)))))"
   ]
  },
  {
   "cell_type": "code",
   "execution_count": 33,
   "id": "b569a9fd",
   "metadata": {},
   "outputs": [
    {
     "name": "stdout",
     "output_type": "stream",
     "text": [
      "201.17439591877456\n",
      "198.82560408122544\n"
     ]
    }
   ],
   "source": [
    "#p=0.96\n",
    "\n",
    "print(200+(1.7506860712521692*(30/(np.sqrt(2000)))))\n",
    "print(200-(1.7506860712521692*(30/(np.sqrt(2000)))))"
   ]
  },
  {
   "cell_type": "code",
   "execution_count": 34,
   "id": "385244b1",
   "metadata": {},
   "outputs": [],
   "source": [
    "#question12\n",
    "\n",
    "data1 = pd.Series([34,36,36,38,38,39,39,40,40,41,41,41,41,42,42,45,49,56])"
   ]
  },
  {
   "cell_type": "code",
   "execution_count": 35,
   "id": "cc95439a",
   "metadata": {},
   "outputs": [
    {
     "data": {
      "text/plain": [
       "count    18.000000\n",
       "mean     41.000000\n",
       "std       5.052664\n",
       "min      34.000000\n",
       "25%      38.250000\n",
       "50%      40.500000\n",
       "75%      41.750000\n",
       "max      56.000000\n",
       "dtype: float64"
      ]
     },
     "execution_count": 35,
     "metadata": {},
     "output_type": "execute_result"
    }
   ],
   "source": [
    "data1.describe()"
   ]
  },
  {
   "cell_type": "code",
   "execution_count": 36,
   "id": "21eb9a43",
   "metadata": {},
   "outputs": [
    {
     "name": "stdout",
     "output_type": "stream",
     "text": [
      "25.529411764705884\n"
     ]
    }
   ],
   "source": [
    "variance1 = data1.var()\n",
    "print(variance1)"
   ]
  },
  {
   "cell_type": "code",
   "execution_count": 37,
   "id": "3eddb0d3",
   "metadata": {},
   "outputs": [
    {
     "data": {
      "text/plain": [
       "(array([3., 2., 4., 6., 0., 1., 1., 0., 0., 1.]),\n",
       " array([34. , 36.2, 38.4, 40.6, 42.8, 45. , 47.2, 49.4, 51.6, 53.8, 56. ]),\n",
       " <BarContainer object of 10 artists>)"
      ]
     },
     "execution_count": 37,
     "metadata": {},
     "output_type": "execute_result"
    },
    {
     "data": {
      "image/png": "[encoded data removed]",
      "text/plain": [
       "<Figure size 432x288 with 1 Axes>"
      ]
     },
     "metadata": {
      "needs_background": "light"
     },
     "output_type": "display_data"
    }
   ],
   "source": [
    "plt.hist(data1)"
   ]
  },
  {
   "cell_type": "code",
   "execution_count": 38,
   "id": "7a15eacf",
   "metadata": {},
   "outputs": [
    {
     "data": {
      "text/plain": [
       "{'whiskers': [<matplotlib.lines.Line2D at 0x249b669efd0>,\n",
       "  <matplotlib.lines.Line2D at 0x249b66ac2e0>],\n",
       " 'caps': [<matplotlib.lines.Line2D at 0x249b66ac5b0>,\n",
       "  <matplotlib.lines.Line2D at 0x249b66ac880>],\n",
       " 'boxes': [<matplotlib.lines.Line2D at 0x249b669ed00>],\n",
       " 'medians': [<matplotlib.lines.Line2D at 0x249b66acb50>],\n",
       " 'fliers': [<matplotlib.lines.Line2D at 0x249b66ace20>],\n",
       " 'means': []}"
      ]
     },
     "execution_count": 38,
     "metadata": {},
     "output_type": "execute_result"
    },
    {
     "data": {
      "image/png": "[encoded data removed]",
      "text/plain": [
       "<Figure size 432x288 with 1 Axes>"
      ]
     },
     "metadata": {
      "needs_background": "light"
     },
     "output_type": "display_data"
    }
   ],
   "source": [
    "plt.boxplot(data1)"
   ]
  },
  {
   "cell_type": "code",
   "execution_count": 39,
   "id": "dbcb06e6",
   "metadata": {},
   "outputs": [],
   "source": [
    "#question20\n",
    "data2 = pd.read_csv(\"Cars.csv\")"
   ]
  },
  {
   "cell_type": "code",
   "execution_count": 40,
   "id": "ef661e63",
   "metadata": {},
   "outputs": [
    {
     "data": {
      "text/html": [
       "<div>\n",
       "<style scoped>\n",
       "    .dataframe tbody tr th:only-of-type {\n",
       "        vertical-align: middle;\n",
       "    }\n",
       "\n",
       "    .dataframe tbody tr th {\n",
       "        vertical-align: top;\n",
       "    }\n",
       "\n",
       "    .dataframe thead th {\n",
       "        text-align: right;\n",
       "    }\n",
       "</style>\n",
       "<table border=\"1\" class=\"dataframe\">\n",
       "  <thead>\n",
       "    <tr style=\"text-align: right;\">\n",
       "      <th></th>\n",
       "      <th>HP</th>\n",
       "      <th>MPG</th>\n",
       "      <th>VOL</th>\n",
       "      <th>SP</th>\n",
       "      <th>WT</th>\n",
       "    </tr>\n",
       "  </thead>\n",
       "  <tbody>\n",
       "    <tr>\n",
       "      <th>0</th>\n",
       "      <td>49</td>\n",
       "      <td>53.700681</td>\n",
       "      <td>89</td>\n",
       "      <td>104.185353</td>\n",
       "      <td>28.762059</td>\n",
       "    </tr>\n",
       "    <tr>\n",
       "      <th>1</th>\n",
       "      <td>55</td>\n",
       "      <td>50.013401</td>\n",
       "      <td>92</td>\n",
       "      <td>105.461264</td>\n",
       "      <td>30.466833</td>\n",
       "    </tr>\n",
       "    <tr>\n",
       "      <th>2</th>\n",
       "      <td>55</td>\n",
       "      <td>50.013401</td>\n",
       "      <td>92</td>\n",
       "      <td>105.461264</td>\n",
       "      <td>30.193597</td>\n",
       "    </tr>\n",
       "    <tr>\n",
       "      <th>3</th>\n",
       "      <td>70</td>\n",
       "      <td>45.696322</td>\n",
       "      <td>92</td>\n",
       "      <td>113.461264</td>\n",
       "      <td>30.632114</td>\n",
       "    </tr>\n",
       "    <tr>\n",
       "      <th>4</th>\n",
       "      <td>53</td>\n",
       "      <td>50.504232</td>\n",
       "      <td>92</td>\n",
       "      <td>104.461264</td>\n",
       "      <td>29.889149</td>\n",
       "    </tr>\n",
       "  </tbody>\n",
       "</table>\n",
       "</div>"
      ],
      "text/plain": [
       "   HP        MPG  VOL          SP         WT\n",
       "0  49  53.700681   89  104.185353  28.762059\n",
       "1  55  50.013401   92  105.461264  30.466833\n",
       "2  55  50.013401   92  105.461264  30.193597\n",
       "3  70  45.696322   92  113.461264  30.632114\n",
       "4  53  50.504232   92  104.461264  29.889149"
      ]
     },
     "execution_count": 40,
     "metadata": {},
     "output_type": "execute_result"
    }
   ],
   "source": [
    "data2.head()"
   ]
  },
  {
   "cell_type": "code",
   "execution_count": 41,
   "id": "ae7cc4e4",
   "metadata": {},
   "outputs": [
    {
     "data": {
      "text/plain": [
       "0.3475939251582705"
      ]
     },
     "execution_count": 41,
     "metadata": {},
     "output_type": "execute_result"
    }
   ],
   "source": [
    "#P(MPG>38)\n",
    "from scipy import stats\n",
    "from scipy.stats import norm\n",
    "\n",
    "1-stats.norm.cdf(38, data2.MPG.mean(), data2.MPG.std())"
   ]
  },
  {
   "cell_type": "code",
   "execution_count": 42,
   "id": "58dd5a89",
   "metadata": {},
   "outputs": [
    {
     "data": {
      "text/plain": [
       "0.7293498762151616"
      ]
     },
     "execution_count": 42,
     "metadata": {},
     "output_type": "execute_result"
    }
   ],
   "source": [
    "#P(MPG<40)\n",
    "\n",
    "stats.norm.cdf(40, data2.MPG.mean(), data2.MPG.std())"
   ]
  },
  {
   "cell_type": "code",
   "execution_count": 43,
   "id": "34b7673d",
   "metadata": {},
   "outputs": [
    {
     "data": {
      "text/plain": [
       "0.013116469610523374"
      ]
     },
     "execution_count": 43,
     "metadata": {},
     "output_type": "execute_result"
    }
   ],
   "source": [
    "#P(20<MPG<50)\n",
    "stats.norm.cdf(50, data2.MPG.mean(), data2.MPG.std())-(1-stats.norm.cdf(20,data2.MPG.mean(), data2.MPG.std()))"
   ]
  },
  {
   "cell_type": "code",
   "execution_count": 44,
   "id": "6b0e5414",
   "metadata": {},
   "outputs": [
    {
     "data": {
      "text/plain": [
       "(array([1., 0., 0., 6., 1., 9., 1., 3., 7., 3., 6., 9., 9., 8., 4., 4., 5.,\n",
       "        0., 4., 1.]),\n",
       " array([12.10126289, 14.18123381, 16.26120474, 18.34117566, 20.42114659,\n",
       "        22.50111751, 24.58108844, 26.66105936, 28.74103029, 30.82100121,\n",
       "        32.90097213, 34.98094306, 37.06091398, 39.14088491, 41.22085583,\n",
       "        43.30082676, 45.38079768, 47.46076861, 49.54073953, 51.62071046,\n",
       "        53.70068138]),\n",
       " <BarContainer object of 20 artists>)"
      ]
     },
     "execution_count": 44,
     "metadata": {},
     "output_type": "execute_result"
    },
    {
     "data": {
      "image/png": "[encoded data removed]",
      "text/plain": [
       "<Figure size 432x288 with 1 Axes>"
      ]
     },
     "metadata": {
      "needs_background": "light"
     },
     "output_type": "display_data"
    }
   ],
   "source": [
    "#question21 a\n",
    "plt.hist(data2[\"MPG\"], bins = 20, edgecolor='black')"
   ]
  },
  {
   "cell_type": "code",
   "execution_count": 45,
   "id": "8638ee1f",
   "metadata": {},
   "outputs": [
    {
     "data": {
      "text/plain": [
       "{'whiskers': [<matplotlib.lines.Line2D at 0x249b6788af0>,\n",
       "  <matplotlib.lines.Line2D at 0x249b6788dc0>],\n",
       " 'caps': [<matplotlib.lines.Line2D at 0x249b67970d0>,\n",
       "  <matplotlib.lines.Line2D at 0x249b67973a0>],\n",
       " 'boxes': [<matplotlib.lines.Line2D at 0x249b6788820>],\n",
       " 'medians': [<matplotlib.lines.Line2D at 0x249b6797670>],\n",
       " 'fliers': [<matplotlib.lines.Line2D at 0x249b6797940>],\n",
       " 'means': []}"
      ]
     },
     "execution_count": 45,
     "metadata": {},
     "output_type": "execute_result"
    },
    {
     "data": {
      "image/png": "[encoded data removed]",
      "text/plain": [
       "<Figure size 432x288 with 1 Axes>"
      ]
     },
     "metadata": {
      "needs_background": "light"
     },
     "output_type": "display_data"
    }
   ],
   "source": [
    "plt.boxplot(data2['MPG'])"
   ]
  },
  {
   "cell_type": "code",
   "execution_count": 46,
   "id": "e3a3723a",
   "metadata": {},
   "outputs": [
    {
     "name": "stderr",
     "output_type": "stream",
     "text": [
      "C:\\Users\\HP\\anaconda3\\lib\\site-packages\\seaborn\\distributions.py:2619: FutureWarning: `distplot` is a deprecated function and will be removed in a future version. Please adapt your code to use either `displot` (a figure-level function with similar flexibility) or `histplot` (an axes-level function for histograms).\n",
      "  warnings.warn(msg, FutureWarning)\n"
     ]
    },
    {
     "data": {
      "text/plain": [
       "<AxesSubplot:xlabel='MPG', ylabel='Density'>"
      ]
     },
     "execution_count": 46,
     "metadata": {},
     "output_type": "execute_result"
    },
    {
     "data": {
      "image/png": "[encoded data removed]",
      "text/plain": [
       "<Figure size 432x288 with 1 Axes>"
      ]
     },
     "metadata": {
      "needs_background": "light"
     },
     "output_type": "display_data"
    }
   ],
   "source": [
    "sns.distplot(data2['MPG'], kde=True, bins=10)"
   ]
  },
  {
   "cell_type": "code",
   "execution_count": 47,
   "id": "b4e24349",
   "metadata": {},
   "outputs": [],
   "source": [
    "#question21 b\n",
    "data3 = pd.read_csv(\"wc-at.csv\")"
   ]
  },
  {
   "cell_type": "code",
   "execution_count": 48,
   "id": "54f7ca39",
   "metadata": {},
   "outputs": [
    {
     "data": {
      "text/html": [
       "<div>\n",
       "<style scoped>\n",
       "    .dataframe tbody tr th:only-of-type {\n",
       "        vertical-align: middle;\n",
       "    }\n",
       "\n",
       "    .dataframe tbody tr th {\n",
       "        vertical-align: top;\n",
       "    }\n",
       "\n",
       "    .dataframe thead th {\n",
       "        text-align: right;\n",
       "    }\n",
       "</style>\n",
       "<table border=\"1\" class=\"dataframe\">\n",
       "  <thead>\n",
       "    <tr style=\"text-align: right;\">\n",
       "      <th></th>\n",
       "      <th>Waist</th>\n",
       "      <th>AT</th>\n",
       "    </tr>\n",
       "  </thead>\n",
       "  <tbody>\n",
       "    <tr>\n",
       "      <th>0</th>\n",
       "      <td>74.75</td>\n",
       "      <td>25.72</td>\n",
       "    </tr>\n",
       "    <tr>\n",
       "      <th>1</th>\n",
       "      <td>72.60</td>\n",
       "      <td>25.89</td>\n",
       "    </tr>\n",
       "    <tr>\n",
       "      <th>2</th>\n",
       "      <td>81.80</td>\n",
       "      <td>42.60</td>\n",
       "    </tr>\n",
       "    <tr>\n",
       "      <th>3</th>\n",
       "      <td>83.95</td>\n",
       "      <td>42.80</td>\n",
       "    </tr>\n",
       "    <tr>\n",
       "      <th>4</th>\n",
       "      <td>74.65</td>\n",
       "      <td>29.84</td>\n",
       "    </tr>\n",
       "  </tbody>\n",
       "</table>\n",
       "</div>"
      ],
      "text/plain": [
       "   Waist     AT\n",
       "0  74.75  25.72\n",
       "1  72.60  25.89\n",
       "2  81.80  42.60\n",
       "3  83.95  42.80\n",
       "4  74.65  29.84"
      ]
     },
     "execution_count": 48,
     "metadata": {},
     "output_type": "execute_result"
    }
   ],
   "source": [
    "data3.head()"
   ]
  },
  {
   "cell_type": "code",
   "execution_count": 49,
   "id": "dc3c71d1",
   "metadata": {},
   "outputs": [
    {
     "name": "stderr",
     "output_type": "stream",
     "text": [
      "C:\\Users\\HP\\anaconda3\\lib\\site-packages\\seaborn\\distributions.py:2619: FutureWarning: `distplot` is a deprecated function and will be removed in a future version. Please adapt your code to use either `displot` (a figure-level function with similar flexibility) or `histplot` (an axes-level function for histograms).\n",
      "  warnings.warn(msg, FutureWarning)\n"
     ]
    },
    {
     "data": {
      "text/plain": [
       "<AxesSubplot:xlabel='Waist', ylabel='Density'>"
      ]
     },
     "execution_count": 49,
     "metadata": {},
     "output_type": "execute_result"
    },
    {
     "data": {
      "image/png": "[encoded data removed]",
      "text/plain": [
       "<Figure size 432x288 with 1 Axes>"
      ]
     },
     "metadata": {
      "needs_background": "light"
     },
     "output_type": "display_data"
    }
   ],
   "source": [
    "sns.distplot(data3[\"Waist\"],bins=10, kde=True)"
   ]
  },
  {
   "cell_type": "code",
   "execution_count": 50,
   "id": "88116828",
   "metadata": {},
   "outputs": [
    {
     "name": "stderr",
     "output_type": "stream",
     "text": [
      "C:\\Users\\HP\\anaconda3\\lib\\site-packages\\seaborn\\distributions.py:2619: FutureWarning: `distplot` is a deprecated function and will be removed in a future version. Please adapt your code to use either `displot` (a figure-level function with similar flexibility) or `histplot` (an axes-level function for histograms).\n",
      "  warnings.warn(msg, FutureWarning)\n"
     ]
    },
    {
     "data": {
      "text/plain": [
       "<AxesSubplot:xlabel='AT', ylabel='Density'>"
      ]
     },
     "execution_count": 50,
     "metadata": {},
     "output_type": "execute_result"
    },
    {
     "data": {
      "image/png": "[encoded data removed]",
      "text/plain": [
       "<Figure size 432x288 with 1 Axes>"
      ]
     },
     "metadata": {
      "needs_background": "light"
     },
     "output_type": "display_data"
    }
   ],
   "source": [
    "sns.distplot(data3[\"AT\"], bins=10, kde=True)"
   ]
  },
  {
   "cell_type": "code",
   "execution_count": 51,
   "id": "1aafc2db",
   "metadata": {},
   "outputs": [
    {
     "name": "stdout",
     "output_type": "stream",
     "text": [
      "1.6448536269514722\n",
      "1.8807936081512509\n",
      "0.8416212335729143\n"
     ]
    }
   ],
   "source": [
    "#question22\n",
    "\n",
    "#z-score for 90% confidence interval\n",
    "z_90= stats.norm.ppf(0.95)\n",
    "print(z_90)\n",
    "#z-score for 94% confidence interval\n",
    "z_94=stats.norm.ppf(0.97)\n",
    "print(z_94)\n",
    "\n",
    "#z-score for 60% confidence interval\n",
    "z_60=stats.norm.ppf(0.8)\n",
    "print(z_60)"
   ]
  },
  {
   "cell_type": "code",
   "execution_count": 52,
   "id": "7353b83a",
   "metadata": {},
   "outputs": [
    {
     "name": "stdout",
     "output_type": "stream",
     "text": [
      "2.0638985616280205\n",
      "2.1715446760080677\n",
      "2.796939504772804\n"
     ]
    }
   ],
   "source": [
    "#question23\n",
    "\n",
    "n = 25\n",
    "dof = n-1\n",
    "\n",
    "#t-score of 95% confidence interval\n",
    "t_95=stats.t.ppf(0.975, dof)\n",
    "print(t_95)\n",
    "#t-score of 96% confidence interval\n",
    "t_96=stats.t.ppf(0.98, dof)\n",
    "print(t_96)\n",
    "\n",
    "#t-score of 99% confidence interval\n",
    "t_99=stats.t.ppf(0.995, dof)\n",
    "print(t_99)"
   ]
  },
  {
   "cell_type": "code",
   "execution_count": 53,
   "id": "f4a754e8",
   "metadata": {},
   "outputs": [
    {
     "name": "stdout",
     "output_type": "stream",
     "text": [
      "-0.4714045207910317\n",
      "0.32167253567098353\n"
     ]
    }
   ],
   "source": [
    "#question24\n",
    "\n",
    "x = 260\n",
    "mean = 270\n",
    "\n",
    "tval = (260-270)/(90/np.sqrt(18))\n",
    "print(tval)\n",
    "\n",
    "prob = 1-stats.t.cdf(abs(tval), df=17)\n",
    "print(prob)"
   ]
  },
  {
   "cell_type": "code",
   "execution_count": null,
   "id": "6ef1a09c",
   "metadata": {},
   "outputs": [],
   "source": []
  }
 ],
 "metadata": {
  "kernelspec": {
   "display_name": "Python 3 (ipykernel)",
   "language": "python",
   "name": "python3"
  },
  "language_info": {
   "codemirror_mode": {
    "name": "ipython",
    "version": 3
   },
   "file_extension": ".py",
   "mimetype": "text/x-python",
   "name": "python",
   "nbconvert_exporter": "python",
   "pygments_lexer": "ipython3",
   "version": "3.9.12"
  }
 },
 "nbformat": 4,
 "nbformat_minor": 5
}
